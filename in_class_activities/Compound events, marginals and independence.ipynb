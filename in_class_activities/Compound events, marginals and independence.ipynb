{
 "cells": [
  {
   "cell_type": "markdown",
   "id": "f40a24f7",
   "metadata": {},
   "source": [
    "## Key concepts \n",
    "\n",
    "In this notebook, you will be introduced to the following concepts:\n",
    "\n",
    "- Intersections of events \n",
    "- Marginal probabilities\n",
    "- Independence\n",
    "\n",
    "The notebook also relies on a separate file `independence_code.py` where you will code an experiment to measure independence. Note that not all of the answers are provided in the notebook; we will figure out the missing parts together as a class."
   ]
  },
  {
   "cell_type": "markdown",
   "id": "07721301",
   "metadata": {},
   "source": [
    "### Warm up discussion questions\n",
    "\n",
    "_Answer the following questions with a partner in a text file, then turn in your text file to Canvas using today's link. In your text file, you should answer each question with a short sentence, explaining your reasoning._\n",
    "\n",
    "- If the Broncos throw at least one interception during a game, are they more or less likely to win the game?\n",
    "- If a person smokes cigarettes, does it make it more or less likely they will get lung cancer? \n",
    "- If you flip a coin while walking forwards, are you more likely to get heads then if you flip a coin while walking backwards?"
   ]
  },
  {
   "cell_type": "markdown",
   "id": "cf7a56e8",
   "metadata": {},
   "source": [
    "### A quick reminder from earlier\n",
    "\n",
    "Recall that the sample space $\\Omega$ is the set of all possible outcomes of an experiment, and that an event $A$ is a subset of $\\Omega$. \n",
    "\n",
    "- For instance, if the Buffs play a game on saturday, $A=\\{W\\}$ might be the event that the Buffs win. Note that $A \\subset \\Omega = \\{W, L\\}$ \n"
   ]
  },
  {
   "cell_type": "markdown",
   "id": "c5b6be60",
   "metadata": {},
   "source": [
    "#### Class warm up question\n",
    "\n",
    "Say you flip a coin twice. Use \"1\" to indicate that you get heads and \"0\" to indicate that you get tails. So for instance, getting heads and heads would be written as \"11\". What is the sample space $\\Omega$? Let's answer this one together as a class using a whiteboard."
   ]
  },
  {
   "cell_type": "markdown",
   "id": "2045cbb7",
   "metadata": {},
   "source": [
    "#### Canvas group question\n",
    "\n",
    "_Using your same text file, answer the following question with a partner, then turn in your answers to Canvas using today's link. Don't delete the earlier part of your text file. Just add your answer to this question at the bottom in a new section._\n",
    "\n",
    "Say you flip a coin twice. Let $A$ be the event that you flip a heads on your first toss. What is $A$. Recall that $A$ is a set, specifically a subset of $\\Omega$. So you should answer this question by defining a set.\n",
    "\n",
    "Hint: $A = \\{\"11\" ...$ ? "
   ]
  },
  {
   "cell_type": "markdown",
   "id": "58ac13ee",
   "metadata": {},
   "source": [
    "### Intersections of events \n",
    "\n",
    "Because events are just sets, it makes sense to talk about the intersection of two events $A$ and $B$. More formally, let's define $A \\cap B$ as the set of all elements in $\\Omega$ that are in $A$ and $B$.\n",
    "   - There is nothing really new here. This is the same set intersection operation we defined earlier in the class. \n",
    "   \n",
    "#### Class question \n",
    "\n",
    "\n",
    "\n",
    "Say $A$ is the event that you flip a heads on your first toss. Say $B$ is the event that you flip a heads on your second toss. Let's do the following on a whiteboard.\n",
    "   - What is $A$?\n",
    "   - What is $B$? \n",
    "   - What is $A \\cap B$? Note that because $A$ is a set and $B$ is a set, $A \\cap B$ is a set."
   ]
  },
  {
   "cell_type": "markdown",
   "id": "ece3e01d",
   "metadata": {},
   "source": [
    "### Coding question\n",
    "\n",
    "In `independence_code.py` you will simulate an experiment in which you flip a coin twice.\n",
    "\n",
    "#### Step 1\n",
    "- To get started, fill out the `two_flips` function. This function simulates two coin flips. If you fill out the function correctly, the two corresponding tests will pass. We will check in about this function in a few minutes.\n",
    "\n",
    "#### Step 2\n",
    "- After the check in, code the `find_omega` function to identify the set of all possible outcomes of the two flips experiment. The `find_omega` runs the experiment 1000 times. \n",
    "    - Note that we are making an assumption that if you run the experiment 1000 times you will see all possible outcomes at least once. (This assumption is reasonable, in this case.) \n",
    "- We will check in about this function after you take a crack at coding it."
   ]
  },
  {
   "cell_type": "markdown",
   "id": "070064bc",
   "metadata": {},
   "source": [
    "### Question\n",
    "\n",
    "Using your `two_flips` function, compute the probability associated with each possible outcome of the experiment. To compute these probabilties, you should run the two flips experiment 1000 times using the code below."
   ]
  },
  {
   "cell_type": "code",
   "execution_count": 11,
   "id": "c15748c7",
   "metadata": {},
   "outputs": [],
   "source": [
    "from independence_code_instructor import two_flips\n",
    "\n",
    "from collections import defaultdict \n",
    "\n",
    "outcomes = defaultdict(int)\n",
    "\n",
    "for i in range(1000):\n",
    "    # your code here. \n",
    "    # 1. run the two flips experiment and \n",
    "    # 2. record the outcome in the outcomes dictionary\n",
    "    pass # delete me"
   ]
  },
  {
   "cell_type": "markdown",
   "id": "1579cb5b",
   "metadata": {},
   "source": [
    "### Question\n",
    "\n",
    "Present your results from the previous experiment using the table below.\n",
    "\n",
    "In this table, the rows indicate the value of your coin on the first flip and the columns indicate the value of your coin on the second flip. So for example, the top right corner should be the probability of getting a heads and then getting a tails.\n",
    "\n",
    "||1| 0|\n",
    "|:-:|:-:| :-:|\n",
    "|1 | x | x | \n",
    "|0 | x | x | "
   ]
  },
  {
   "cell_type": "markdown",
   "id": "7ca62a6f",
   "metadata": {},
   "source": [
    "### Question\n",
    "\n",
    "Using your `outcomes` data structure, what is the probability of getting a heads on the first flip? Note that this can happen two ways. You can draw a \"10\" or you can draw a \"11. In other words $p($heads on first flip$)$ = $p(10) \\cup p(11)$.\n",
    "\n",
    "### Marginal probabilities\n",
    "\n",
    "Notice that to compute the probability of getting a heads on the first flip, you would add across the row in the table above. In olden times, people used to print out tables like this and write the sum of the probabilities in the margins. Hence these kinds of probabilities are called **marginal probabilities**. More formally, the marginal probability of an event $x$ is $P(x) = \\sum_{y \\in Y} p(x \\cap y)$, i.e. the sum of the probabilities of $x$ and other possible events $y$. \n",
    "\n",
    "For instance, $p($heads on first flip$)$ = $p($heads on first flip $\\cap$ heads on second flip$)$ + $p($heads on first flip $\\cap$ tails on second flip$)$. \n",
    "   - In this case, $Y = \\{H, T\\}$ would be the possible outcomes for the second flip.\n",
    "\n",
    "The distribution of $P(x)$, over all possible values of $x$, is called the **marginal distribution**."
   ]
  },
  {
   "cell_type": "markdown",
   "id": "3d28819a",
   "metadata": {},
   "source": [
    "#### Question\n",
    "\n",
    "Using your `outcomes` data structure, what is the marginal probability of getting a tails on the second flip?"
   ]
  },
  {
   "cell_type": "markdown",
   "id": "bb616c8f",
   "metadata": {},
   "source": [
    "### Independence\n",
    "\n",
    "We are now ready to introduce the idea of independence. \n",
    "\n",
    "- Two events are **independent** if the probability of both events occurring is the same as the marginal probability of one event times the marginal probability of the second event. \n",
    "\n",
    "    - You can think about independence a little more **loosely**. If one event happening does not make it more or less likely that the other event happens, the two events are independent.\n",
    "\n",
    "    - You can also think about independence a little more **formally**. If $p(A \\cap B) = p(A)p(B)$ then $A$ and $B$ are independent. \n",
    "\n",
    "##### Notation for independence\n",
    "- We write $A \\perp \\!\\!\\! \\perp B$ to say that $A$ and $B$ are independent."
   ]
  },
  {
   "cell_type": "markdown",
   "id": "46365009",
   "metadata": {},
   "source": [
    "#### Question\n",
    "\n",
    "_Using your same text file, answer the following question with a partner, then turn in your answers to Canvas using today's link. Don't delete the earlier part of your text file. Just add your answer to this question at the bottom in a new section._"
   ]
  },
  {
   "cell_type": "markdown",
   "id": "6ae3b8ff",
   "metadata": {},
   "source": [
    "Using the definition of independence above, and your prior answers, do you think the two events in our experiment (i.e. flip 1 and flip 2) are independent? "
   ]
  },
  {
   "cell_type": "markdown",
   "id": "130241a3",
   "metadata": {},
   "source": [
    "### But what about real data?\n",
    "\n",
    "There is something a little funny about this notebook. We coded this notebook so that the probablity of each coin flip did not depend on any of the other coin flips. So of course we could compute that the flips were independent. If this feels a little circular to you, you're right!\n",
    "\n",
    "In real life, we don't usually simulate data with a computer. Instead, we just observe data in the world and have to make our best guess about how it is created or generated. This is sometimes called the [data generating process](https://en.wikipedia.org/wiki/Data_generating_process). \n",
    "\n",
    "Next time, we will look at crime data from the Boulder police. Specifically, we will look at the race and gender of people who are stopped by the Boulder police and try to determine if these variables are independent by estimating the marginal distributions based on data."
   ]
  },
  {
   "cell_type": "code",
   "execution_count": null,
   "id": "eee6786d",
   "metadata": {},
   "outputs": [],
   "source": []
  }
 ],
 "metadata": {
  "kernelspec": {
   "display_name": "Python 3 (ipykernel)",
   "language": "python",
   "name": "python3"
  },
  "language_info": {
   "codemirror_mode": {
    "name": "ipython",
    "version": 3
   },
   "file_extension": ".py",
   "mimetype": "text/x-python",
   "name": "python",
   "nbconvert_exporter": "python",
   "pygments_lexer": "ipython3",
   "version": "3.8.3"
  }
 },
 "nbformat": 4,
 "nbformat_minor": 5
}

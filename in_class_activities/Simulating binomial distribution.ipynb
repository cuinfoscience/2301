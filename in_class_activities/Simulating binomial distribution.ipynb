{
 "cells": [
  {
   "cell_type": "code",
   "execution_count": 8,
   "id": "bde753a0",
   "metadata": {},
   "outputs": [
    {
     "data": {
      "text/plain": [
       "<AxesSubplot:>"
      ]
     },
     "execution_count": 8,
     "metadata": {},
     "output_type": "execute_result"
    },
    {
     "data": {
      "image/png": "[encoded data removed]",
      "text/plain": [
       "<Figure size 432x288 with 1 Axes>"
      ]
     },
     "metadata": {
      "needs_background": "light"
     },
     "output_type": "display_data"
    }
   ],
   "source": [
    "from random import random \n",
    "import pandas as pd\n",
    "\n",
    "N = 100\n",
    "p = .3\n",
    "total = []\n",
    "\n",
    "for m in range(1000):\n",
    "    c = 0\n",
    "    for n in range(N):\n",
    "        if random () <= p:\n",
    "            c += 1\n",
    "    total.append(c)\n",
    "    \n",
    "df = pd.DataFrame({\"totals\": total})\n",
    "df[\"totals\"].hist(bins=N)"
   ]
  },
  {
   "cell_type": "code",
   "execution_count": null,
   "id": "95ee19fb",
   "metadata": {},
   "outputs": [],
   "source": []
  }
 ],
 "metadata": {
  "kernelspec": {
   "display_name": "Python 3 (ipykernel)",
   "language": "python",
   "name": "python3"
  },
  "language_info": {
   "codemirror_mode": {
    "name": "ipython",
    "version": 3
   },
   "file_extension": ".py",
   "mimetype": "text/x-python",
   "name": "python",
   "nbconvert_exporter": "python",
   "pygments_lexer": "ipython3",
   "version": "3.8.3"
  }
 },
 "nbformat": 4,
 "nbformat_minor": 5
}

{
 "cells": [
  {
   "cell_type": "code",
   "execution_count": 11,
   "id": "b0e8848c",
   "metadata": {},
   "outputs": [],
   "source": [
    "def factorial(n):\n",
    "    '''\n",
    "    write a function for n!\n",
    "    \n",
    "    You can use recursion if you want, or just use a for loop\n",
    "    '''\n",
    "    out = 1\n",
    "    # 1 * 2 * 3 * 4 * 5 == 5 * 4 * 3 * 2 * 1\n",
    "    for i in range(n, 0, -1):\n",
    "        out *= i\n",
    "    return out"
   ]
  },
  {
   "cell_type": "code",
   "execution_count": 1,
   "id": "fd6c389a",
   "metadata": {},
   "outputs": [],
   "source": [
    "def combinations(n, k):\n",
    "    '''\n",
    "    write your own function to compute combinations\n",
    "\n",
    "    n!/(n-k)! * 1/(k!) = n!/((n-k)!* k!)\n",
    "    \n",
    "    '''\n",
    "    return int(factorial(n)/(factorial(n-k) * factorial(k)))\n",
    "\n",
    "def p_seq(k, n, theta):\n",
    "    '''Return the probability of a sequence'''\n",
    "    return theta ** k * (1-theta)**(n-k)\n",
    "\n",
    "\n",
    "def binom(k, n, theta):\n",
    "    '''Return the probability of k successes in n trials'''\n",
    "    return combinations(n, k) * p_seq(k, n, theta)"
   ]
  },
  {
   "cell_type": "markdown",
   "id": "97c27c85",
   "metadata": {},
   "source": [
    "### Checking the binomial distribution with simulation\n",
    "\n",
    "- The binomial distribution gives us an analytic forumula for the probability of k successes in n trials\n",
    "- One way to check the formula is via simulation. We can simulate data and see if the formula is true"
   ]
  },
  {
   "cell_type": "code",
   "execution_count": 14,
   "id": "33aa3474",
   "metadata": {},
   "outputs": [],
   "source": [
    "trials = 0\n",
    "from random import random\n",
    "\n",
    "def shot(p):\n",
    "    '''\n",
    "    return 1 with probability p\n",
    "    else return 0\n",
    "    '''\n",
    "    \n",
    "n = 10\n",
    "theta = .5\n",
    "k = 4\n",
    "trials = 1000\n",
    "\n",
    "# simulate 1000 trials\n",
    "# For each trial, simulate n shots.\n",
    "# Record how many times you get a 1 and how many times you get a zero\n",
    "# Compute the probability of getting k=4 successes in n=10 trials"
   ]
  },
  {
   "cell_type": "code",
   "execution_count": 13,
   "id": "b547e3a2",
   "metadata": {},
   "outputs": [],
   "source": [
    "binom(k, n, theta) # check to see if you get roughly the same answer using the analytic formula"
   ]
  }
 ],
 "metadata": {
  "kernelspec": {
   "display_name": "Python 3 (ipykernel)",
   "language": "python",
   "name": "python3"
  },
  "language_info": {
   "codemirror_mode": {
    "name": "ipython",
    "version": 3
   },
   "file_extension": ".py",
   "mimetype": "text/x-python",
   "name": "python",
   "nbconvert_exporter": "python",
   "pygments_lexer": "ipython3",
   "version": "3.8.3"
  }
 },
 "nbformat": 4,
 "nbformat_minor": 5
}

{
 "cells": [
  {
   "cell_type": "markdown",
   "metadata": {},
   "source": [
    "### Determining the mean and expected value of K coin flips\n",
    "\n",
    "Say we flip a coin 2 times. Let X be a r.v. indicating the number of heads in the 2 flips. \n",
    "- What is $E[X]$?\n",
    "- What is $Var[X]$? \n",
    "\n",
    "Do this first with math. Then we will code it a few different ways."
   ]
  },
  {
   "cell_type": "code",
   "execution_count": 20,
   "metadata": {},
   "outputs": [],
   "source": [
    "import random as random\n",
    "from coin_flip_string import num_heads\n",
    "\n",
    "def flipCoin(numFlips=2):\n",
    "    '''\n",
    "    Returns a string of H and T of length num flips \n",
    "        - e.g. \"HH\" or \"HT\"\n",
    "    '''\n",
    "    coinString = \"\"\n",
    "    for i in range(0,numFlips):\n",
    "        flip = random.randint(0,1)\n",
    "        if flip == 0:\n",
    "            coinString += \"H\"\n",
    "        else:\n",
    "            coinString += \"T\"\n",
    "    return coinString\n",
    "\n",
    "\n",
    "def pXi(k, data):\n",
    "    '''\n",
    "    input is k, a number of flips, and a number of trials\n",
    "\n",
    "    output is p(Xi = k)\n",
    "    '''\n",
    "    return 42\n",
    "\n",
    "### Generate some data \n",
    "\n",
    "data = []\n",
    "trials = 1000\n",
    "for trial in range(trials):  # iterate through each trial\n",
    "    myString = flipCoin(numFlips=2)  # get a string corresponding to an experiment \n",
    "    data.append(myString)"
   ]
  },
  {
   "cell_type": "code",
   "execution_count": null,
   "metadata": {},
   "outputs": [],
   "source": [
    "# plot the data\n",
    "from collections import Counter\n",
    "from collections import defaultdict\n",
    "import pandas as pd\n",
    "import altair as alt\n",
    "\n",
    "my_counter = defaultdict(int)\n",
    "rolledup = []\n",
    "\n",
    "for flips in data:\n",
    "    my_counter[num_heads(flips)] += 1\n",
    "\n",
    "for k, v in my_counter.items():\n",
    "    rolledup.append({\"observed\": k, \"count\": v})\n",
    "\n",
    "alt.Chart(pd.DataFrame(rolledup)).mark_bar().encode(\n",
    "    x=\"observed\",\n",
    "    y=\"count\"\n",
    ")\n"
   ]
  },
  {
   "cell_type": "code",
   "execution_count": 35,
   "metadata": {},
   "outputs": [
    {
     "data": {
      "text/plain": [
       "0.998"
      ]
     },
     "execution_count": 35,
     "metadata": {},
     "output_type": "execute_result"
    }
   ],
   "source": [
    "### A naive implementation of the expected value formula\n",
    "\n",
    "eX = 0\n",
    "for h in range(0, 3):\n",
    "    pnumHeads = pXi(k=h, data=data)\n",
    "    eX += h * pnumHeads\n",
    "    \n",
    "eX"
   ]
  },
  {
   "cell_type": "code",
   "execution_count": 19,
   "metadata": {},
   "outputs": [
    {
     "data": {
      "text/plain": [
       "0.9933"
      ]
     },
     "execution_count": 19,
     "metadata": {},
     "output_type": "execute_result"
    }
   ],
   "source": [
    "# Expected value as an average\n",
    "total = []\n",
    "\n",
    "trials = 10000\n",
    "\n",
    "for myString in data:  # iterate through each trial\n",
    "    nHeads = numHeads(myString)\n",
    "    total.append(nHeads)\n",
    "    \n",
    "eX = sum(total)/len(total)\n",
    "eX"
   ]
  },
  {
   "cell_type": "code",
   "execution_count": 21,
   "metadata": {},
   "outputs": [
    {
     "data": {
      "text/plain": [
       "0.4912417100000211"
      ]
     },
     "execution_count": 21,
     "metadata": {},
     "output_type": "execute_result"
    }
   ],
   "source": [
    "# Variance as an average\n",
    "\n",
    "# using the cell above, compute the variance\n",
    "total = []\n",
    "\n"
   ]
  }
 ],
 "metadata": {
  "kernelspec": {
   "display_name": "Python 3 (ipykernel)",
   "language": "python",
   "name": "python3"
  },
  "language_info": {
   "codemirror_mode": {
    "name": "ipython",
    "version": 3
   },
   "file_extension": ".py",
   "mimetype": "text/x-python",
   "name": "python",
   "nbconvert_exporter": "python",
   "pygments_lexer": "ipython3",
   "version": "3.8.3"
  }
 },
 "nbformat": 4,
 "nbformat_minor": 4
}

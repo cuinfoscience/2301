{
 "cells": [
  {
   "cell_type": "code",
   "execution_count": null,
   "id": "31acbf7e",
   "metadata": {},
   "outputs": [],
   "source": [
    "from coin_flip import flip_coin"
   ]
  },
  {
   "cell_type": "markdown",
   "id": "cacb6115",
   "metadata": {},
   "source": [
    "### Question 1\n",
    "Say you flip a coin twice. What is the sample space $\\Omega$?"
   ]
  },
  {
   "cell_type": "markdown",
   "id": "ece3e01d",
   "metadata": {},
   "source": [
    "### Question 2"
   ]
  },
  {
   "cell_type": "code",
   "execution_count": null,
   "id": "38ab707b",
   "metadata": {},
   "outputs": [],
   "source": [
    "def twoflips():\n",
    "    '''\n",
    "    Perform an experiment where you flip a fair coin two times.\n",
    "    Return a string of 1s and 0s showing outcome of the \n",
    "    experiment. This is sometimes called a bitstring\n",
    "    '''\n",
    "    return \"00\" # this is only one possible outcome"
   ]
  },
  {
   "cell_type": "markdown",
   "id": "276b0b25",
   "metadata": {},
   "source": [
    "### Question 3\n",
    "\n",
    "Print $\\Omega$, the sample space, of the two flips experiment using Python."
   ]
  },
  {
   "cell_type": "markdown",
   "id": "1579cb5b",
   "metadata": {},
   "source": [
    "### Question 4\n",
    "\n",
    "Compute the probability associated with each event in the sample space by running the two flips experiment 1000 times. You might want to fill out the markdown table below\n",
    "\n",
    "|event|probability|\n",
    "|:-:|:-:| \n",
    "|00 | |\n",
    "|01 | |\n",
    "|10 | |\n",
    "|11 | |"
   ]
  },
  {
   "cell_type": "code",
   "execution_count": null,
   "id": "83b3c212",
   "metadata": {},
   "outputs": [],
   "source": [
    "for i in range(1000):\n",
    "    # run the two flips experiment and compute the probability "
   ]
  },
  {
   "cell_type": "code",
   "execution_count": null,
   "id": "99fb78ce",
   "metadata": {},
   "outputs": [],
   "source": [
    "### Question 5\n",
    "\n",
    "What is the probability of getting a heads on the first flip?"
   ]
  },
  {
   "cell_type": "code",
   "execution_count": null,
   "id": "fc73ca62",
   "metadata": {},
   "outputs": [],
   "source": [
    "### Question 6\n",
    "\n",
    "What is the probability of getting a heads on the second flip?"
   ]
  },
  {
   "cell_type": "code",
   "execution_count": null,
   "id": "6bc65f65",
   "metadata": {},
   "outputs": [],
   "source": [
    "### Question 7\n",
    "\n",
    "What is the probability of getting a heads on the first and second flip?"
   ]
  },
  {
   "cell_type": "code",
   "execution_count": null,
   "id": "fbc0754b",
   "metadata": {},
   "outputs": [],
   "source": [
    "### Question 8\n",
    "\n",
    "What is the probability of getting a heads on the first and second flip?"
   ]
  },
  {
   "cell_type": "markdown",
   "id": "bb616c8f",
   "metadata": {},
   "source": [
    "### Question 9\n",
    "\n",
    "Two events are independent if the probability of both events occurring is the same as the probability of one event times the probability of the second event. Is the probability of getting a heads on the first flip independent of the probability of getting heads on the second flip?"
   ]
  }
 ],
 "metadata": {
  "kernelspec": {
   "display_name": "Python 3",
   "language": "python",
   "name": "python3"
  },
  "language_info": {
   "codemirror_mode": {
    "name": "ipython",
    "version": 3
   },
   "file_extension": ".py",
   "mimetype": "text/x-python",
   "name": "python",
   "nbconvert_exporter": "python",
   "pygments_lexer": "ipython3",
   "version": "3.8.3"
  }
 },
 "nbformat": 4,
 "nbformat_minor": 5
}

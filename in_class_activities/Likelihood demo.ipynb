{
 "cells": [
  {
   "cell_type": "code",
   "execution_count": 1,
   "id": "ec85f237",
   "metadata": {},
   "outputs": [],
   "source": [
    "from random import random\n",
    "\n",
    "theta = .8\n",
    "\n",
    "def do_flip(p):\n",
    "    if random() < p:\n",
    "        return 1\n",
    "    else:\n",
    "        return 0\n",
    "\n",
    "so_far = []\n",
    "\n",
    "so_far.append(do_flip(p=theta))"
   ]
  },
  {
   "cell_type": "markdown",
   "id": "742d917c",
   "metadata": {},
   "source": [
    "### Questions \n",
    "Answer each of these with a short sentence \n",
    "\n",
    "1. What does the variable `so_far` do in the cell above? \n",
    "\n",
    "[Your answer here]\n",
    "\n",
    "2. What does the function `do_flip` do?\n",
    "\n",
    "[Your answer here]\n",
    "\n",
    "3. What happens on line 13?\n",
    "\n",
    "[Your answer here]"
   ]
  },
  {
   "cell_type": "code",
   "execution_count": 5,
   "id": "52aa9aaa",
   "metadata": {},
   "outputs": [],
   "source": [
    "def get_likelihood(flips):\n",
    "\n",
    "    theatas = [i/100 for i in range(100)]\n",
    "\n",
    "    results = []\n",
    "\n",
    "    for p in theatas:\n",
    "        likelihood = 1\n",
    "        for flip in flips:\n",
    "            if flip == 1:\n",
    "                likelihood *= p\n",
    "            else:\n",
    "                likelihood *= (1 - p)\n",
    "        results.append({\"likelihood\": likelihood, \"theta\": p})\n",
    "    return results"
   ]
  },
  {
   "cell_type": "markdown",
   "id": "6298846c",
   "metadata": {},
   "source": [
    "4. Write the expression for the likelihood of observing $\\mathcal{D}=[f_1, f_2 .. f_N]$ the data if the parameter is $\\theta$, where $f_i$ is the observed outcome on the $i$th flip. In this case the data is held in the variable `flips`. Remember that the probability of $N$ independent events is the probability of each event multiplied together. In general, a likelihood function is $p(\\mathcal{D} \\vert \\theta)$.\n",
    "\n",
    "[Your answer here]\n",
    "\n",
    "Hint: $\\prod^N$"
   ]
  },
  {
   "cell_type": "code",
   "execution_count": null,
   "id": "1a8bb3bd",
   "metadata": {},
   "outputs": [],
   "source": [
    "## ADD ONE CELL\n",
    "\n",
    "so_far.append(do_flip(p=theta)) \n",
    "\n",
    "results = get_likelihood(so_far)"
   ]
  },
  {
   "cell_type": "markdown",
   "id": "4aac0755",
   "metadata": {},
   "source": [
    "5. What does the cell above do?\n",
    "\n",
    "[Your answer here]"
   ]
  },
  {
   "cell_type": "markdown",
   "id": "31adc418",
   "metadata": {},
   "source": [
    "6. Using the code below, plot the likelihood function using Altair. "
   ]
  },
  {
   "cell_type": "code",
   "execution_count": 14,
   "id": "7ae2914a",
   "metadata": {},
   "outputs": [
    {
     "data": {
      "text/html": [
       "\n",
       "<div id=\"altair-viz-95c1ae163ff94b4294087a8f7bf88b3f\"></div>\n",
       "<script type=\"text/javascript\">\n",
       "  (function(spec, embedOpt){\n",
       "    let outputDiv = document.currentScript.previousElementSibling;\n",
       "    if (outputDiv.id !== \"altair-viz-95c1ae163ff94b4294087a8f7bf88b3f\") {\n",
       "      outputDiv = document.getElementById(\"altair-viz-95c1ae163ff94b4294087a8f7bf88b3f\");\n",
       "    }\n",
       "    const paths = {\n",
       "      \"vega\": \"https://cdn.jsdelivr.net/npm//vega@5?noext\",\n",
       "      \"vega-lib\": \"https://cdn.jsdelivr.net/npm//vega-lib?noext\",\n",
       "      \"vega-lite\": \"https://cdn.jsdelivr.net/npm//vega-lite@4.8.1?noext\",\n",
       "      \"vega-embed\": \"https://cdn.jsdelivr.net/npm//vega-embed@6?noext\",\n",
       "    };\n",
       "\n",
       "    function loadScript(lib) {\n",
       "      return new Promise(function(resolve, reject) {\n",
       "        var s = document.createElement('script');\n",
       "        s.src = paths[lib];\n",
       "        s.async = true;\n",
       "        s.onload = () => resolve(paths[lib]);\n",
       "        s.onerror = () => reject(`Error loading script: ${paths[lib]}`);\n",
       "        document.getElementsByTagName(\"head\")[0].appendChild(s);\n",
       "      });\n",
       "    }\n",
       "\n",
       "    function showError(err) {\n",
       "      outputDiv.innerHTML = `<div class=\"error\" style=\"color:red;\">${err}</div>`;\n",
       "      throw err;\n",
       "    }\n",
       "\n",
       "    function displayChart(vegaEmbed) {\n",
       "      vegaEmbed(outputDiv, spec, embedOpt)\n",
       "        .catch(err => showError(`Javascript Error: ${err.message}<br>This usually means there's a typo in your chart specification. See the javascript console for the full traceback.`));\n",
       "    }\n",
       "\n",
       "    if(typeof define === \"function\" && define.amd) {\n",
       "      requirejs.config({paths});\n",
       "      require([\"vega-embed\"], displayChart, err => showError(`Error loading script: ${err.message}`));\n",
       "    } else if (typeof vegaEmbed === \"function\") {\n",
       "      displayChart(vegaEmbed);\n",
       "    } else {\n",
       "      loadScript(\"vega\")\n",
       "        .then(() => loadScript(\"vega-lite\"))\n",
       "        .then(() => loadScript(\"vega-embed\"))\n",
       "        .catch(showError)\n",
       "        .then(() => displayChart(vegaEmbed));\n",
       "    }\n",
       "  })({\"config\": {\"view\": {\"continuousWidth\": 400, \"continuousHeight\": 300}}, \"data\": {\"name\": \"data-b693b972694c62378493ec5733761540\"}, \"mark\": \"line\", \"encoding\": {\"x\": {\"type\": \"quantitative\", \"field\": \"theta\"}, \"y\": {\"type\": \"quantitative\", \"field\": \"likelihood\"}}, \"$schema\": \"https://vega.github.io/schema/vega-lite/v4.8.1.json\", \"datasets\": {\"data-b693b972694c62378493ec5733761540\": [{\"likelihood\": 0.0, \"theta\": 0.0}, {\"likelihood\": 9.801000000000003e-17, \"theta\": 0.01}, {\"likelihood\": 2.4586240000000007e-14, \"theta\": 0.02}, {\"likelihood\": 6.173244899999997e-13, \"theta\": 0.03}, {\"likelihood\": 6.039797760000002e-12, \"theta\": 0.04}, {\"likelihood\": 3.525390625000001e-11, \"theta\": 0.05}, {\"likelihood\": 1.4841086975999996e-10, \"theta\": 0.06}, {\"likelihood\": 4.985976384900002e-10, \"theta\": 0.07}, {\"likelihood\": 1.4200235622400003e-09, \"theta\": 0.08}, {\"likelihood\": 3.564698966009999e-09, \"theta\": 0.09}, {\"likelihood\": 8.100000000000005e-09, \"theta\": 0.1}, {\"likelihood\": 1.697936696401e-08, \"theta\": 0.11}, {\"likelihood\": 3.329778253824e-08, \"theta\": 0.12}, {\"likelihood\": 6.174265827249003e-08, \"theta\": 0.13}, {\"likelihood\": 1.0914935858176009e-07, \"theta\": 0.14}, {\"likelihood\": 1.8516884765624996e-07, \"theta\": 0.15}, {\"likelihood\": 3.0305289240576003e-07, \"theta\": 0.16}, {\"likelihood\": 4.805599301104902e-07, \"theta\": 0.17}, {\"likelihood\": 7.409821491302399e-07, \"theta\": 0.18}, {\"likelihood\": 1.11429157112001e-06, \"theta\": 0.19}, {\"likelihood\": 1.638400000000001e-06, \"theta\": 0.2}, {\"likelihood\": 2.3605246527200095e-06, \"theta\": 0.21}, {\"likelihood\": 3.33864814593024e-06, \"theta\": 0.22}, {\"likelihood\": 4.643058317310491e-06, \"theta\": 0.23}, {\"likelihood\": 6.357950146805759e-06, \"theta\": 0.24}, {\"likelihood\": 8.58306884765625e-06, \"theta\": 0.25}, {\"likelihood\": 1.1435370056181763e-05, \"theta\": 0.26}, {\"likelihood\": 1.5050669999072495e-05, \"theta\": 0.27}, {\"likelihood\": 1.9585255593738255e-05, \"theta\": 0.28}, {\"likelihood\": 2.5217421677363995e-05, \"theta\": 0.29}, {\"likelihood\": 3.214889999999999e-05, \"theta\": 0.3}, {\"likelihood\": 4.0606142292566e-05, \"theta\": 0.31}, {\"likelihood\": 5.084141766836224e-05, \"theta\": 0.32}, {\"likelihood\": 6.31336828728385e-05, \"theta\": 0.33}, {\"likelihood\": 7.77891824972698e-05, \"theta\": 0.34}, {\"likelihood\": 9.514173525390621e-05, \"theta\": 0.35}, {\"likelihood\": 0.00011555266180939775, \"theta\": 0.36}, {\"likelihood\": 0.00013941030952612445, \"theta\": 0.37}, {\"likelihood\": 0.00016712912980378626, \"theta\": 0.38}, {\"likelihood\": 0.0001991482645824981, \"theta\": 0.39}, {\"likelihood\": 0.00023592960000000013, \"theta\": 0.4}, {\"likelihood\": 0.00027795524722570196, \"theta\": 0.41}, {\"likelihood\": 0.00032572441315943424, \"theta\": 0.42}, {\"likelihood\": 0.0003797496270192566, \"theta\": 0.43}, {\"likelihood\": 0.0004405522928867739, \"theta\": 0.44}, {\"likelihood\": 0.0005086575430664065, \"theta\": 0.45}, {\"likelihood\": 0.000584588372683254, \"theta\": 0.46}, {\"likelihood\": 0.0006688590423288663, \"theta\": 0.47}, {\"likelihood\": 0.000761967742801674, \"theta\": 0.48}, {\"likelihood\": 0.0008643885241153219, \"theta\": 0.49}, {\"likelihood\": 0.0009765625, \"theta\": 0.5}, {\"likelihood\": 0.0010988883491353278, \"theta\": 0.51}, {\"likelihood\": 0.0012317121453647465, \"theta\": 0.52}, {\"likelihood\": 0.001375316561186965, \"theta\": 0.53}, {\"likelihood\": 0.0015299095019361186, \"theta\": 0.54}, {\"likelihood\": 0.0016956122422851572, \"theta\": 0.55}, {\"likelihood\": 0.0018724471520729505, \"theta\": 0.56}, {\"likelihood\": 0.0020603251150008977, \"theta\": 0.57}, {\"likelihood\": 0.002259032761505802, \"theta\": 0.58}, {\"likelihood\": 0.0024682196561286356, \"theta\": 0.59}, {\"likelihood\": 0.0026873856, \"theta\": 0.6}, {\"likelihood\": 0.002915868230688644, \"theta\": 0.61}, {\"likelihood\": 0.0031528311246458987, \"theta\": 0.62}, {\"likelihood\": 0.0033972526318623627, \"theta\": 0.63}, {\"likelihood\": 0.0036479156981701027, \"theta\": 0.64}, {\"likelihood\": 0.0039033989579101568, \"theta\": 0.65}, {\"likelihood\": 0.004162069408477687, \"theta\": 0.66}, {\"likelihood\": 0.004422077008591821, \"theta\": 0.67}, {\"likelihood\": 0.004681351574050572, \"theta\": 0.68}, {\"likelihood\": 0.00493760237825924, \"theta\": 0.69}, {\"likelihood\": 0.005188320899999999, \"theta\": 0.7}, {\"likelihood\": 0.005430787197776849, \"theta\": 0.71}, {\"likelihood\": 0.005662080428660491, \"theta\": 0.72}, {\"likelihood\": 0.00587909406990785, \"theta\": 0.73}, {\"likelihood\": 0.006078556443777526, \"theta\": 0.74}, {\"likelihood\": 0.006257057189941406, \"theta\": 0.75}, {\"likelihood\": 0.006411080375740663, \"theta\": 0.76}, {\"likelihood\": 0.006537044982287232, \"theta\": 0.77}, {\"likelihood\": 0.006631353554106378, \"theta\": 0.78}, {\"likelihood\": 0.006690449851687934, \"theta\": 0.79}, {\"likelihood\": 0.006710886400000001, \"theta\": 0.8}, {\"likelihood\": 0.006689402881755146, \"theta\": 0.81}, {\"likelihood\": 0.006623016382042121, \"theta\": 0.82}, {\"likelihood\": 0.0065091245508818295, \"theta\": 0.83}, {\"likelihood\": 0.006345622812371189, \"theta\": 0.84}, {\"likelihood\": 0.006131036813378907, \"theta\": 0.85}, {\"likelihood\": 0.005864671371289079, \"theta\": 0.86}, {\"likelihood\": 0.005546777249088735, \"theta\": 0.87}, {\"likelihood\": 0.005178737157199627, \"theta\": 0.88}, {\"likelihood\": 0.004763272454899518, \"theta\": 0.89}, {\"likelihood\": 0.0043046721, \"theta\": 0.9}, {\"likelihood\": 0.003809045473682731, \"theta\": 0.91}, {\"likelihood\": 0.003284600788080392, \"theta\": 0.92}, {\"likelihood\": 0.002741950867358694, \"theta\": 0.93}, {\"likelihood\": 0.0021944481787478966, \"theta\": 0.94}, {\"likelihood\": 0.0016585510782226587, \"theta\": 0.95}, {\"likelihood\": 0.0011542233263741354, \"theta\": 0.96}, {\"likelihood\": 0.0007053690234939276, \"theta\": 0.97}, {\"likelihood\": 0.00034030520903271486, \"theta\": 0.98}, {\"likelihood\": 9.227446944279218e-05, \"theta\": 0.99}]}}, {\"mode\": \"vega-lite\"});\n",
       "</script>"
      ],
      "text/plain": [
       "alt.Chart(...)"
      ]
     },
     "execution_count": 14,
     "metadata": {},
     "output_type": "execute_result"
    }
   ],
   "source": [
    "import pandas as pd \n",
    "import altair as alt\n",
    "\n",
    "## PLOT CELL\n",
    "\n",
    "\n",
    "df = pd.DataFrame(results)\n",
    "alt.Chart(df).mark_line().encode(\n",
    "    x=\"theta\",\n",
    "    y=\"likelihood\"\n",
    ")\n",
    "\n",
    "# lets do it again in the next cell"
   ]
  },
  {
   "cell_type": "markdown",
   "id": "156fb88f",
   "metadata": {},
   "source": [
    "7. Run the code in \"ADD ONE CELL\" and then \"PLOT CELL\" a few times. What do you observe as you keep running \"ADD ONE CELL\" and then \"PLOT CELL\"? Why do you think this is happening?"
   ]
  },
  {
   "cell_type": "code",
   "execution_count": null,
   "id": "db889563",
   "metadata": {},
   "outputs": [],
   "source": []
  }
 ],
 "metadata": {
  "kernelspec": {
   "display_name": "Python 3 (ipykernel)",
   "language": "python",
   "name": "python3"
  },
  "language_info": {
   "codemirror_mode": {
    "name": "ipython",
    "version": 3
   },
   "file_extension": ".py",
   "mimetype": "text/x-python",
   "name": "python",
   "nbconvert_exporter": "python",
   "pygments_lexer": "ipython3",
   "version": "3.8.3"
  }
 },
 "nbformat": 4,
 "nbformat_minor": 5
}

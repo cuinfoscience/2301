{
 "cells": [
  {
   "cell_type": "markdown",
   "id": "79be0cac",
   "metadata": {},
   "source": [
    "### Key concepts \n",
    "\n",
    "In this notebook, you will gain exposure to the following concepts:\n",
    "\n",
    "- Compound events \n",
    "- Marginal distributions\n",
    "- Independence"
   ]
  },
  {
   "cell_type": "markdown",
   "id": "49c17fac",
   "metadata": {},
   "source": [
    "### Warm up questions for discussion (Canvas activity with a partner)\n",
    "\n",
    "- If the Broncos throw at least one interception during a game, does it make it more or less likely that they will win the game?\n",
    "- If a person smokes cigarettes, does it make it more or less likely they will get lung cancer? \n",
    "- If you flip a coin while jumping up and down on your right foot, are you more likely to get heads than if you flip a coin while jumping up and down on your left foot?"
   ]
  },
  {
   "cell_type": "markdown",
   "id": "cd9bba3a",
   "metadata": {},
   "source": [
    "### Compound events \n",
    "\n",
    "Recall that an event $A$ is a subset of the sample space $\\Omega$, where  $\\Omega$ is the set of all possible outcomes of an experiment. So far, we have only been discussing the probability of single events $A \\subset \\Omega$. But we can also measure or observe the probability of multiple events.\n",
    "\n",
    "- For instance, let $S$ indicate that a person smokes cigarettes and let $\\neg S$ indicate that a person does not smoke cigarettes. Similarly, let $C$ indicate that a person gets lung cancer and $\\neg C$ indicate that a person does not get lung cancer. \n",
    "\n",
    "- We can ask what is $p(CS)$, i.e. the probability that a person smokes and gets cancer? Note that when we write $p(CS)$ this is really a shorthand for $p(C \\cap S)$, the probability that we observe both a cancer event and a smoking event. \n",
    "\n",
    "### Question \n",
    "\n",
    "- Say we run an ''experiment'' in which we sample 1000 people at random from hospital records and make two observations: if they smoke and if they ever have had lung cancer. What is $\\Omega$?"
   ]
  },
  {
   "cell_type": "markdown",
   "id": "fa937e08",
   "metadata": {},
   "source": [
    "### Question\n",
    "Say you flip a coin twice. Use \"1\" to indicate that you get heads and \"0\" to indicate that you get tails. So for instance, getting heads and heads would be written as \"11\". What is the sample space $\\Omega$?"
   ]
  },
  {
   "cell_type": "markdown",
   "id": "ece3e01d",
   "metadata": {},
   "source": [
    "### Question\n",
    "\n",
    "Verify your answer to the previous question using the code and tests in `independence_code.py`\n",
    "\n",
    "- To get started, fill out the `two_flips` function to get the tests to pass. We will check in about this function in a few minutes.\n",
    "- After the check in, code the `find_omega` function to identify the set of all possible outcomes of the two flips experiment by running the experiment 1000 times. The (reasonable) assumption is that if you run the experiment 1000 times you will see all possible outcomes at least once. We will check in about this function after you take a crack at coding it."
   ]
  },
  {
   "cell_type": "markdown",
   "id": "83128cb4",
   "metadata": {},
   "source": [
    "### Question\n",
    "\n",
    "Compute the probability associated with each event in the sample space by running the two flips experiment 1000 times. Using your answers, fill out the table below."
   ]
  },
  {
   "cell_type": "code",
   "execution_count": 5,
   "id": "0d25f3f0",
   "metadata": {},
   "outputs": [
    {
     "data": {
      "text/plain": [
       "defaultdict(int, {'01': 277, '11': 235, '10': 249, '00': 239})"
      ]
     },
     "execution_count": 5,
     "metadata": {},
     "output_type": "execute_result"
    }
   ],
   "source": [
    "from independence_code_instructor import two_flips\n",
    "\n",
    "from collections import defaultdict \n",
    "\n",
    "outcomes = defaultdict(int)\n",
    "\n",
    "for i in range(1000):\n",
    "    outcome = two_flips()\n",
    "    outcomes[two_flips()] += 1\n",
    "\n",
    "outcomes"
   ]
  },
  {
   "cell_type": "markdown",
   "id": "1579cb5b",
   "metadata": {},
   "source": [
    "### Question\n",
    "\n",
    "In this table, the rows indicate the value of your coin on the first flip and the columns indicate the value of your coin on the second flip. So the top right corner should be the probability of getting a heads and then getting a tails.\n",
    "\n",
    "||1| 0|\n",
    "|:-:|:-:| :-:|\n",
    "|1 | x | x | \n",
    "|0 | x | x | "
   ]
  },
  {
   "cell_type": "markdown",
   "id": "eba3f83b",
   "metadata": {},
   "source": [
    "### Question\n",
    "\n",
    "Using your `outcomes` data structure, what is the probability of getting a heads on the first flip? Note that this can happen two ways. You can draw a \"10\" or you can draw a \"11. In other words $p($heads on first flip$)$ = $p(10) \\cup p(11)$.\n",
    "\n",
    "### Marginals\n",
    "\n",
    "Notice that to compute this value, you would add across the row in the table above. In olden times, people used to print out tables like this and write the sum of the probabilities in the margins. Hence these kinds of probabilities are called **marginals**. More formally, the marginal probability of an event $x$ is $P(x) = \\sum p(x \\cap y)$, i.e. the sum of the probabilities of $x$ and other possible events $y$. For instance, $p(C) = p(C \\cap S) + p(C \\cap \\neg S)$ = $\\sum_{y \\in Y} p(C \\cap y)$, where $Y = \\{S, \\neg S\\}$. The distribution of the probabilities of each possible outcome is called the **marginal distribution**."
   ]
  },
  {
   "cell_type": "markdown",
   "id": "1db39355",
   "metadata": {},
   "source": [
    "### Question\n",
    "\n",
    "What is the marginal probability of getting a tails on the second flip?"
   ]
  },
  {
   "cell_type": "markdown",
   "id": "bb616c8f",
   "metadata": {},
   "source": [
    "### Independence\n",
    "\n",
    "We are now ready to introduce the idea of independence. \n",
    "\n",
    "- Two events are **independent** if the probability of both events occurring is the same as the marginal probability of one event times the marginal probability of the second event. \n",
    "\n",
    "- You can think about independence a little more loosely. If one event happening does not make it more or less likely that the other event happens, the two events are independent.\n",
    "\n",
    "- You can also think about independence a little more formally. If $p(A \\cap B) = p(A)p(B)$ then $A$ and $B$ are independent. \n",
    "\n",
    "- You will sometimes see this written with the following symbols. We write $A \\perp \\!\\!\\! \\perp B$ to say that $A$ and $B$ are independent."
   ]
  },
  {
   "cell_type": "markdown",
   "id": "7893f130",
   "metadata": {},
   "source": [
    "### Question"
   ]
  },
  {
   "cell_type": "markdown",
   "id": "4d82790a",
   "metadata": {},
   "source": [
    "Using the definition of independence above, and your prior answers, do you think the two events in our experiment (i.e. flip 1 and flip 2) are independent? "
   ]
  }
 ],
 "metadata": {
  "kernelspec": {
   "display_name": "Python 3 (ipykernel)",
   "language": "python",
   "name": "python3"
  },
  "language_info": {
   "codemirror_mode": {
    "name": "ipython",
    "version": 3
   },
   "file_extension": ".py",
   "mimetype": "text/x-python",
   "name": "python",
   "nbconvert_exporter": "python",
   "pygments_lexer": "ipython3",
   "version": "3.8.3"
  }
 },
 "nbformat": 4,
 "nbformat_minor": 5
}

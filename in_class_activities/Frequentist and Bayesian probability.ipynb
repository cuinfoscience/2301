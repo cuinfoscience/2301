{
 "cells": [
  {
   "cell_type": "markdown",
   "id": "4472e6f1",
   "metadata": {},
   "source": [
    "### Motivating study of probability\n",
    "Why should we learn probability?\n",
    "\n",
    "Used in many areas of society:\n",
    "- Science\n",
    "- Business\n",
    "- Politics\n",
    "- Sports\n",
    "- Economics\n",
    "\n",
    "And in many parts of computing:\n",
    "- data science \n",
    "- machine learning\n",
    "- computer security"
   ]
  },
  {
   "cell_type": "code",
   "execution_count": 2,
   "id": "18f72533",
   "metadata": {},
   "outputs": [],
   "source": [
    "from coin_flip import flip_coin\n",
    "from coin_flip import compute_mean"
   ]
  },
  {
   "cell_type": "markdown",
   "id": "50f24b45",
   "metadata": {},
   "source": [
    "## Setup\n",
    "\n",
    "For all experiments in Step One to Step Two, set $p=.5$"
   ]
  },
  {
   "cell_type": "markdown",
   "id": "e82b82a9",
   "metadata": {},
   "source": [
    "### Step One \n",
    "\n",
    "Warm up: fill out the `compute_mean` function with a partner. Turn your code in to Canvas."
   ]
  },
  {
   "cell_type": "markdown",
   "id": "b07bf71f",
   "metadata": {},
   "source": [
    "### Step Two\n",
    "Flip a coin once, and compute the fraction of the time that you get heads.\n",
    "\n",
    "Turn in answers to Canvas once your group is ready. Use the starter code below to get started"
   ]
  },
  {
   "cell_type": "markdown",
   "id": "8441c72b",
   "metadata": {},
   "source": [
    "### Seeing class data\n",
    "Uploading samples to Google sheets"
   ]
  },
  {
   "cell_type": "code",
   "execution_count": null,
   "id": "894503c8",
   "metadata": {},
   "outputs": [],
   "source": [
    "flips = []"
   ]
  },
  {
   "cell_type": "code",
   "execution_count": null,
   "id": "f87dc2e3",
   "metadata": {},
   "outputs": [],
   "source": [
    "### Step Three\n",
    "Flip a coin twice, and compute the fraction of the time that you get heads.\n",
    "\n",
    "Turn in answers to Canvas once your group is ready. Use the starter code below to get started"
   ]
  },
  {
   "cell_type": "code",
   "execution_count": null,
   "id": "7a7b5b79",
   "metadata": {},
   "outputs": [],
   "source": [
    "flips = []\n",
    "for i in range(3):\n",
    "    pass"
   ]
  },
  {
   "cell_type": "code",
   "execution_count": null,
   "id": "e35ff782",
   "metadata": {},
   "outputs": [],
   "source": [
    "### Step Four\n",
    "Flip a coin 1000 times, and compute the fraction of the time that you get heads?\n",
    "\n",
    "Do you notice a pattern?"
   ]
  },
  {
   "cell_type": "markdown",
   "id": "a99427f5",
   "metadata": {},
   "source": [
    "Show histogram of these flips?"
   ]
  },
  {
   "cell_type": "code",
   "execution_count": null,
   "id": "d564716c",
   "metadata": {},
   "outputs": [],
   "source": [
    "### Frequentist interpretation of probability "
   ]
  },
  {
   "cell_type": "markdown",
   "id": "3f25f29f",
   "metadata": {},
   "source": [
    "### Step five\n",
    "\n",
    "Instructor sets p to a secret value. Asks the class for a low/high on possible values of p. We update probabilities based on one flip at a time."
   ]
  },
  {
   "cell_type": "code",
   "execution_count": null,
   "id": "944ad0c0",
   "metadata": {},
   "outputs": [],
   "source": [
    "secret_value_from_nature = # set me\n",
    "flips = []\n",
    "flip = flip_coin(p=secret_value_from_nature)\n",
    "flips.append(flip)\n",
    "compute_mean(flips) # what is estimate of probability?"
   ]
  },
  {
   "cell_type": "code",
   "execution_count": null,
   "id": "2a6d9f65",
   "metadata": {},
   "outputs": [],
   "source": [
    "flip = flip_coin(p=secret_value_from_nature)\n",
    "flips.append(flip)\n",
    "compute_mean(flips) # how about now??"
   ]
  },
  {
   "cell_type": "code",
   "execution_count": null,
   "id": "8689d9d2",
   "metadata": {},
   "outputs": [],
   "source": [
    "flip = flip_coin(p=secret_value_from_nature)\n",
    "flips.append(flip)\n",
    "compute_mean(flips) # and now??"
   ]
  },
  {
   "cell_type": "markdown",
   "id": "48606331",
   "metadata": {},
   "source": [
    "### Step Six\n",
    "\n",
    "Bayesian interpretation of probability"
   ]
  }
 ],
 "metadata": {
  "kernelspec": {
   "display_name": "Python 3 (ipykernel)",
   "language": "python",
   "name": "python3"
  },
  "language_info": {
   "codemirror_mode": {
    "name": "ipython",
    "version": 3
   },
   "file_extension": ".py",
   "mimetype": "text/x-python",
   "name": "python",
   "nbconvert_exporter": "python",
   "pygments_lexer": "ipython3",
   "version": "3.8.3"
  }
 },
 "nbformat": 4,
 "nbformat_minor": 5
}

{
 "cells": [
  {
   "cell_type": "code",
   "execution_count": 7,
   "id": "b53a80b4",
   "metadata": {},
   "outputs": [
    {
     "data": {
      "text/html": [
       "<img src=\"https://s3.us-west-2.amazonaws.com/www.abehandler.com/assets/img/gamble_for_grades.png\"/>"
      ],
      "text/plain": [
       "<IPython.core.display.Image object>"
      ]
     },
     "execution_count": 7,
     "metadata": {},
     "output_type": "execute_result"
    }
   ],
   "source": [
    "from IPython.display import Image\n",
    "from IPython.core.display import HTML \n",
    "Image(url= \"https://s3.us-west-2.amazonaws.com/www.abehandler.com/assets/img/gamble_for_grades.png\")"
   ]
  },
  {
   "cell_type": "markdown",
   "id": "ed7a5159",
   "metadata": {},
   "source": [
    "### A proposition \n",
    "\n",
    "- You will get 3 participation points for showing up to class today!\n",
    "- I am offering you the chance to gamble the points. You have to do the analysis, but you don't have to take the bet.\n",
    "- If you choose to gamble, it costs 1 point.\n",
    "    - I will draw a number out of a hat\n",
    "    - The numbers go from 1 to 10\n",
    "    - I draw anything from 1 to 9, you lose the point\n",
    "    - If I draw a 10, you get your point back and then get 10 more participation points! So you gain a total of 11 participation points. You can skip class all week :) But please don't do that! \n",
    "   \n",
    "You are allowed to keep making this gamble until you run out of points. "
   ]
  },
  {
   "cell_type": "markdown",
   "id": "d2a11280",
   "metadata": {},
   "source": [
    "### Should you take this bet?\n",
    "\n",
    "My question is: should you take this bet? Is it is a good idea? Should you take the bet once? Twice? Three times?\n",
    "\n",
    "Please discuss in breakout rooms. Running experiments in code is *highly* encouraged. Some starter code is provided for you. After we discuss this we will have a chance to gamble."
   ]
  },
  {
   "cell_type": "markdown",
   "id": "bc300c30",
   "metadata": {},
   "source": [
    "### Expected value \n",
    "\n",
    "It may be helpful to consider the idea of expected value. We have not talked about it yet, but here is the definition \n",
    "\n",
    "$E[X] = p(x_i)x_i$\n",
    "\n",
    "where $x_i$ is the \"value\" of outcome $x_i$. For instance, the $x_{10}$=11 in our game today. We will define this formally a little later."
   ]
  },
  {
   "cell_type": "code",
   "execution_count": 6,
   "id": "9e0524f2",
   "metadata": {},
   "outputs": [],
   "source": [
    "from random import randint\n",
    "\n",
    "def draw_number(start=1, end=10):\n",
    "    '''pick a number randomly from 1 to 10'''\n",
    "    return randint(start, end)\n",
    "\n",
    "reward = {}\n",
    "for i in range(9):\n",
    "    reward[i] = 0\n",
    "reward[10] = 11"
   ]
  },
  {
   "cell_type": "code",
   "execution_count": null,
   "id": "90133ecd",
   "metadata": {},
   "outputs": [],
   "source": []
  }
 ],
 "metadata": {
  "kernelspec": {
   "display_name": "Python 3",
   "language": "python",
   "name": "python3"
  },
  "language_info": {
   "codemirror_mode": {
    "name": "ipython",
    "version": 3
   },
   "file_extension": ".py",
   "mimetype": "text/x-python",
   "name": "python",
   "nbconvert_exporter": "python",
   "pygments_lexer": "ipython3",
   "version": "3.8.3"
  }
 },
 "nbformat": 4,
 "nbformat_minor": 5
}

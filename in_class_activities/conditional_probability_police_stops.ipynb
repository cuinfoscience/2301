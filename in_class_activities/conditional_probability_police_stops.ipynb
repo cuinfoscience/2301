{
 "cells": [
  {
   "cell_type": "code",
   "execution_count": 6,
   "id": "74cf11e2",
   "metadata": {},
   "outputs": [
    {
     "data": {
      "text/plain": [
       "array(['W', 'B', nan, 'A', 'U', 'I'], dtype=object)"
      ]
     },
     "execution_count": 6,
     "metadata": {},
     "output_type": "execute_result"
    }
   ],
   "source": [
    "import csv\n",
    "import pandas as pd \n",
    "\n",
    "df = pd.read_csv(\"Demographics_of_Police_Stops.csv\")\n",
    "\n",
    "df[\"race\"].unique()"
   ]
  },
  {
   "cell_type": "code",
   "execution_count": null,
   "id": "543f6878",
   "metadata": {},
   "outputs": [],
   "source": [
    "# Boolean indexing\n",
    "white = white_or_black[white_or_black[\"race\"] == \"W\"]\n",
    "\n",
    "black = white_or_black[white_or_black[\"race\"] == \"B\"]"
   ]
  },
  {
   "cell_type": "code",
   "execution_count": 10,
   "id": "c9666080",
   "metadata": {},
   "outputs": [],
   "source": [
    "# Boolean operator! \n",
    "# | means OR\n",
    "\n",
    "white_or_black = df[(df[\"race\"] == \"W\") | (df[\"race\"] == \"B\")]"
   ]
  },
  {
   "cell_type": "code",
   "execution_count": 28,
   "id": "f835aed9",
   "metadata": {},
   "outputs": [
    {
     "name": "stdout",
     "output_type": "stream",
     "text": [
      "probability of stopped and male = 0.66\n"
     ]
    }
   ],
   "source": [
    "N = len(white_or_black)\n",
    "male = len(white_or_black[white_or_black[\"sex\"] == \"M\"])\n",
    "print(\"probability of stopped and male = {:.2f}\".format(male/N))"
   ]
  },
  {
   "cell_type": "code",
   "execution_count": 27,
   "id": "9d5babc5",
   "metadata": {},
   "outputs": [
    {
     "name": "stdout",
     "output_type": "stream",
     "text": [
      "probability of stopped and male, given race is black = 0.78\n"
     ]
    }
   ],
   "source": [
    "N_B = len(black)\n",
    "N_BM = len(black[black[\"sex\"] == \"M\"])\n",
    "print(\"probability of stopped and male, given race is black = {:.2f}\".format(N_BM/N_B))"
   ]
  },
  {
   "cell_type": "code",
   "execution_count": 26,
   "id": "262f33a4",
   "metadata": {},
   "outputs": [
    {
     "name": "stdout",
     "output_type": "stream",
     "text": [
      "probability of stopped and male, given race is white = 0.65\n"
     ]
    }
   ],
   "source": [
    "N_W = len(white)\n",
    "N_WM = len(white[white[\"sex\"] == \"M\"])\n",
    "print(\"probability of stopped and male, given race is white = {:.2f}\".format(N_WM/N_W))"
   ]
  }
 ],
 "metadata": {
  "kernelspec": {
   "display_name": "Python 3 (ipykernel)",
   "language": "python",
   "name": "python3"
  },
  "language_info": {
   "codemirror_mode": {
    "name": "ipython",
    "version": 3
   },
   "file_extension": ".py",
   "mimetype": "text/x-python",
   "name": "python",
   "nbconvert_exporter": "python",
   "pygments_lexer": "ipython3",
   "version": "3.8.3"
  }
 },
 "nbformat": 4,
 "nbformat_minor": 5
}

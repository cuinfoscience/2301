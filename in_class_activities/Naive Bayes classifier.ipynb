{
 "cells": [
  {
   "cell_type": "markdown",
   "id": "ce371755",
   "metadata": {},
   "source": [
    "### Manual inspection of a tweet\n",
    "\n",
    "Review the following tweet: https://twitter.com/ScottWesterfeld/status/446805144781348865\n",
    "\n",
    "1. Do you think the author of the tweet denies climate change, or does not deny climate change?\n",
    "2. What words or phrases in the tweet indicate that the author denies or does not deny climate change?\n",
    "3. Do you think you could identify those words or phrases with a compuer?"
   ]
  },
  {
   "cell_type": "markdown",
   "id": "605cba6b",
   "metadata": {},
   "source": [
    "### Reading in data from a file \n",
    "\n",
    "- Read in lines from `climate_tweets.csv` into a data frame. \n",
    "- Inspect the data\n",
    "- What do you thnk the label `Y` or `N` represents? "
   ]
  },
  {
   "cell_type": "markdown",
   "id": "5637296a",
   "metadata": {},
   "source": [
    "### Measuring the overall probabilty of the labels Y or N\n",
    "\n",
    "- How frequently do the labels `Y` or `N` occur in the dataset`"
   ]
  },
  {
   "cell_type": "markdown",
   "id": "3991f7a1",
   "metadata": {},
   "source": [
    "Complete the tokenize function below. Your function should take an `input_string` as input and return a list of words. You can use whitespace to split words."
   ]
  },
  {
   "cell_type": "code",
   "execution_count": null,
   "id": "48c6f237",
   "metadata": {},
   "outputs": [],
   "source": [
    "def tokenize(input_string):\n",
    "    '''\n",
    "    Example input: \"I love 2301, mostly\"\n",
    "    Example output: [\"I\", \"love\", \"2301,\" \"mostly\"]\n",
    "    '''\n",
    "    "
   ]
  },
  {
   "cell_type": "markdown",
   "id": "b368929b",
   "metadata": {},
   "source": [
    "### Compute $p(w|c)$\n",
    "\n",
    "Use your tokenize function to create a dictionary that stores $p(w|c)$, the probabilty of a word given a class. We will discuss how to do this in class"
   ]
  },
  {
   "cell_type": "markdown",
   "id": "71cf9530",
   "metadata": {},
   "source": [
    "### Naive indepenence assumption\n",
    "\n",
    "If you have a tweet with the word `extreme` in it, do you think it is more likely that you will also have the word `weather` in the tweet? Are the words `extreme` and `weather` independent?"
   ]
  },
  {
   "cell_type": "markdown",
   "id": "540545a5",
   "metadata": {},
   "source": [
    "### Predict\n",
    "\n",
    "Use the independence assumption and prior probability of each class to predict if the tweet at the start of the notebook reflects climate denial?"
   ]
  },
  {
   "cell_type": "code",
   "execution_count": null,
   "id": "78bdf8d1",
   "metadata": {},
   "outputs": [],
   "source": [
    "def better_tokenize(input_string):\n",
    "    '''\n",
    "    Experiment with a better tokenizer function. Does it improve accuracy?\n",
    "    '''"
   ]
  }
 ],
 "metadata": {
  "kernelspec": {
   "display_name": "Python 3 (ipykernel)",
   "language": "python",
   "name": "python3"
  },
  "language_info": {
   "codemirror_mode": {
    "name": "ipython",
    "version": 3
   },
   "file_extension": ".py",
   "mimetype": "text/x-python",
   "name": "python",
   "nbconvert_exporter": "python",
   "pygments_lexer": "ipython3",
   "version": "3.8.3"
  }
 },
 "nbformat": 4,
 "nbformat_minor": 5
}

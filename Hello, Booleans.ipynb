{
 "cells": [
  {
   "cell_type": "markdown",
   "metadata": {},
   "source": [
    "Intro to Booleans!\n",
    "- Boolean variables in Python\n",
    "- NOT operations \n",
    "- AND operations\n",
    "- OR operations\n",
    "- [Truth tables](https://docs.google.com/spreadsheets/d/14-Zqm3rXZxGqNMVPcmNa61OziwlhcyK9JVnReoIFvxI/edit?usp=sharing)\n",
    "\n",
    "Evaluating complex Boolean expressions with Python"
   ]
  },
  {
   "cell_type": "markdown",
   "metadata": {},
   "source": [
    "- $\\neg A$\n",
    "- $A \\vee B$\n",
    "- $A \\"
   ]
  },
  {
   "cell_type": "code",
   "execution_count": null,
   "metadata": {},
   "outputs": [],
   "source": []
  }
 ],
 "metadata": {
  "kernelspec": {
   "display_name": "Python 3",
   "language": "python",
   "name": "python3"
  },
  "language_info": {
   "codemirror_mode": {
    "name": "ipython",
    "version": 3
   },
   "file_extension": ".py",
   "mimetype": "text/x-python",
   "name": "python",
   "nbconvert_exporter": "python",
   "pygments_lexer": "ipython3",
   "version": "3.8.5"
  }
 },
 "nbformat": 4,
 "nbformat_minor": 4
}
